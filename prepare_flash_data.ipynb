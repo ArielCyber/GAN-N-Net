{
 "cells": [
  {
   "cell_type": "code",
   "execution_count": 1,
   "metadata": {},
   "outputs": [],
   "source": [
    "import numpy as np\n",
    "import glob\n",
    "import os\n",
    "import pandas as pd\n",
    "import pickle\n"
   ]
  },
  {
   "cell_type": "code",
   "execution_count": 2,
   "metadata": {},
   "outputs": [],
   "source": [
    "pkl_file_path = \"/home/jony/Git/GAN-N-Net/datasets/new_raw_data/site4_28_classes_ready2go.pkl\""
   ]
  },
  {
   "cell_type": "code",
   "execution_count": null,
   "metadata": {},
   "outputs": [],
   "source": [
    "# pd.read_pickle(pkl_file_path)\n",
    "import dill\n",
    "import pandas as pd\n",
    "\n",
    "def read_pickle_in_chunks(file_path, chunk_size=10):\n",
    "    with open(file_path, 'rb') as f:\n",
    "        while True:\n",
    "            try:\n",
    "                chunk = dill.load(f)\n",
    "                yield pd.DataFrame(chunk)\n",
    "            except EOFError:\n",
    "                break\n",
    "\n",
    "# Usage\n",
    "file_path = 'large_pickle_file.pkl'\n",
    "chunk_size = 1000\n",
    "\n",
    "for i, chunk in enumerate(read_pickle_in_chunks(file_path, chunk_size)):\n",
    "    print(f\"Chunk {i+1}:\")\n",
    "    print(chunk.head())"
   ]
  }
 ],
 "metadata": {
  "kernelspec": {
   "display_name": "gnet",
   "language": "python",
   "name": "python3"
  },
  "language_info": {
   "codemirror_mode": {
    "name": "ipython",
    "version": 3
   },
   "file_extension": ".py",
   "mimetype": "text/x-python",
   "name": "python",
   "nbconvert_exporter": "python",
   "pygments_lexer": "ipython3",
   "version": "3.11.8"
  }
 },
 "nbformat": 4,
 "nbformat_minor": 2
}

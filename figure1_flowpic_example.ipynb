{
 "cells": [
  {
   "cell_type": "markdown",
   "id": "5b89b028-9f18-43d8-8938-a969ea32e666",
   "metadata": {},
   "source": [
    "# Figure 1 : Example of a packet time series transformed into a flowpic representation for a randomly selected flow"
   ]
  },
  {
   "cell_type": "markdown",
   "id": "dc04a790-ba6c-4ad2-9d3b-b360c6657e2c",
   "metadata": {
    "execution": {
     "iopub.execute_input": "2023-09-08T11:06:57.020421Z",
     "iopub.status.busy": "2023-09-08T11:06:57.020008Z",
     "iopub.status.idle": "2023-09-08T11:06:57.026704Z",
     "shell.execute_reply": "2023-09-08T11:06:57.025722Z",
     "shell.execute_reply.started": "2023-09-08T11:06:57.020387Z"
    }
   },
   "source": [
    "[:simple-jupyter: :material-download:](/papers/imc23/notebooks/figure1_flowpic_example.ipynb)"
   ]
  },
  {
   "cell_type": "code",
   "execution_count": 1,
   "id": "d9843261-4376-46d4-b4f2-7b1f40e48a24",
   "metadata": {
    "execution": {
     "iopub.execute_input": "2023-09-08T11:05:46.916723Z",
     "iopub.status.busy": "2023-09-08T11:05:46.916321Z",
     "iopub.status.idle": "2023-09-08T11:05:51.393807Z",
     "shell.execute_reply": "2023-09-08T11:05:51.392890Z",
     "shell.execute_reply.started": "2023-09-08T11:05:46.916690Z"
    }
   },
   "outputs": [],
   "source": [
    "import numpy as np\n",
    "import tcbench as tcb\n",
    "from matplotlib.colors import LogNorm, Normalize\n",
    "# from tcbench import dataprep"
   ]
  },
  {
   "cell_type": "code",
   "execution_count": 3,
   "id": "f670139b-1670-4a1f-8ea2-d2691add2eea",
   "metadata": {
    "execution": {
     "iopub.execute_input": "2023-09-08T11:05:51.396165Z",
     "iopub.status.busy": "2023-09-08T11:05:51.395586Z",
     "iopub.status.idle": "2023-09-08T11:05:51.932386Z",
     "shell.execute_reply": "2023-09-08T11:05:51.931617Z",
     "shell.execute_reply.started": "2023-09-08T11:05:51.396130Z"
    }
   },
   "outputs": [],
   "source": [
    "import matplotlib as mpl\n",
    "import matplotlib.pyplot as plt\n",
    "import seaborn as sns\n",
    "\n",
    "%matplotlib inline\n",
    "%config InlineBackend.figure_format='retina'"
   ]
  },
  {
   "cell_type": "code",
   "execution_count": 4,
   "id": "244157f1-2e56-4313-abfc-27ada55ed399",
   "metadata": {
    "execution": {
     "iopub.execute_input": "2023-09-08T11:05:51.933803Z",
     "iopub.status.busy": "2023-09-08T11:05:51.933467Z",
     "iopub.status.idle": "2023-09-08T11:05:51.937176Z",
     "shell.execute_reply": "2023-09-08T11:05:51.936463Z",
     "shell.execute_reply.started": "2023-09-08T11:05:51.933774Z"
    }
   },
   "outputs": [],
   "source": [
    "import tcbench"
   ]
  },
  {
   "cell_type": "code",
   "execution_count": 5,
   "id": "2252e2fe-b10c-465f-b908-f1b8d67d6a0b",
   "metadata": {
    "execution": {
     "iopub.execute_input": "2023-09-08T11:05:51.939358Z",
     "iopub.status.busy": "2023-09-08T11:05:51.939040Z",
     "iopub.status.idle": "2023-09-08T11:05:51.946332Z",
     "shell.execute_reply": "2023-09-08T11:05:51.945629Z",
     "shell.execute_reply.started": "2023-09-08T11:05:51.939331Z"
    }
   },
   "outputs": [],
   "source": [
    "# load unfiltered dataset\n",
    "FLOWPIC_BLOCK_DURATION = 15"
   ]
  },
  {
   "cell_type": "code",
   "execution_count": 7,
   "id": "e5e18890-90bf-4758-9305-53270bda997b",
   "metadata": {
    "execution": {
     "iopub.execute_input": "2023-09-08T11:05:51.947588Z",
     "iopub.status.busy": "2023-09-08T11:05:51.947273Z",
     "iopub.status.idle": "2023-09-08T11:05:55.880614Z",
     "shell.execute_reply": "2023-09-08T11:05:55.879001Z",
     "shell.execute_reply.started": "2023-09-08T11:05:51.947558Z"
    }
   },
   "outputs": [],
   "source": [
    "df = tcb.load_parquet(tcb.DATASETS.UCDAVISICDM19)"
   ]
  },
  {
   "cell_type": "code",
   "execution_count": 8,
   "id": "83ff3bc0-fa78-43d3-b9f6-9ac57810dd0b",
   "metadata": {
    "execution": {
     "iopub.execute_input": "2023-09-08T11:05:55.883152Z",
     "iopub.status.busy": "2023-09-08T11:05:55.882629Z",
     "iopub.status.idle": "2023-09-08T11:05:55.891993Z",
     "shell.execute_reply": "2023-09-08T11:05:55.891026Z",
     "shell.execute_reply.started": "2023-09-08T11:05:55.883108Z"
    }
   },
   "outputs": [],
   "source": [
    "df_sample = df.sample(n=1, random_state=12345)\n",
    "ser = df_sample.iloc[0]"
   ]
  },
  {
   "cell_type": "code",
   "execution_count": 12,
   "id": "61ef88d7",
   "metadata": {},
   "outputs": [
    {
     "data": {
      "text/html": [
       "<div>\n",
       "<style scoped>\n",
       "    .dataframe tbody tr th:only-of-type {\n",
       "        vertical-align: middle;\n",
       "    }\n",
       "\n",
       "    .dataframe tbody tr th {\n",
       "        vertical-align: top;\n",
       "    }\n",
       "\n",
       "    .dataframe thead th {\n",
       "        text-align: right;\n",
       "    }\n",
       "</style>\n",
       "<table border=\"1\" class=\"dataframe\">\n",
       "  <thead>\n",
       "    <tr style=\"text-align: right;\">\n",
       "      <th></th>\n",
       "      <th>row_id</th>\n",
       "      <th>app</th>\n",
       "      <th>flow_id</th>\n",
       "      <th>partition</th>\n",
       "      <th>num_pkts</th>\n",
       "      <th>duration</th>\n",
       "      <th>bytes</th>\n",
       "      <th>unixtime</th>\n",
       "      <th>timetofirst</th>\n",
       "      <th>pkts_size</th>\n",
       "      <th>pkts_dir</th>\n",
       "      <th>pkts_iat</th>\n",
       "    </tr>\n",
       "  </thead>\n",
       "  <tbody>\n",
       "    <tr>\n",
       "      <th>5487</th>\n",
       "      <td>5487</td>\n",
       "      <td>youtube</td>\n",
       "      <td>Youtube-117</td>\n",
       "      <td>pretraining</td>\n",
       "      <td>13257</td>\n",
       "      <td>51.4177</td>\n",
       "      <td>16295231</td>\n",
       "      <td>[1522938696.741044, 1522938696.741261, 1522938...</td>\n",
       "      <td>[0.0, 0.000216961, 0.000316858, 0.0206981, 0.0...</td>\n",
       "      <td>[1412, 352, 136, 1412, 103, 97, 93, 96, 103, 9...</td>\n",
       "      <td>[1, 1, 1, 0, 1, 1, 0, 0, 1, 0, 0, 1, 0, 1, 1, ...</td>\n",
       "      <td>[0.0, 0.000216961, 9.9897e-05, 0.020381242, 0....</td>\n",
       "    </tr>\n",
       "  </tbody>\n",
       "</table>\n",
       "</div>"
      ],
      "text/plain": [
       "      row_id      app      flow_id    partition  num_pkts  duration     bytes  \\\n",
       "5487    5487  youtube  Youtube-117  pretraining     13257   51.4177  16295231   \n",
       "\n",
       "                                               unixtime  \\\n",
       "5487  [1522938696.741044, 1522938696.741261, 1522938...   \n",
       "\n",
       "                                            timetofirst  \\\n",
       "5487  [0.0, 0.000216961, 0.000316858, 0.0206981, 0.0...   \n",
       "\n",
       "                                              pkts_size  \\\n",
       "5487  [1412, 352, 136, 1412, 103, 97, 93, 96, 103, 9...   \n",
       "\n",
       "                                               pkts_dir  \\\n",
       "5487  [1, 1, 1, 0, 1, 1, 0, 0, 1, 0, 0, 1, 0, 1, 1, ...   \n",
       "\n",
       "                                               pkts_iat  \n",
       "5487  [0.0, 0.000216961, 9.9897e-05, 0.020381242, 0....  "
      ]
     },
     "execution_count": 12,
     "metadata": {},
     "output_type": "execute_result"
    }
   ],
   "source": [
    "df_sample.head()"
   ]
  },
  {
   "cell_type": "code",
   "execution_count": null,
   "id": "e56209fb-bbb1-4b24-9dae-a6c5ab6a636f",
   "metadata": {
    "execution": {
     "iopub.execute_input": "2023-09-08T11:07:16.008796Z",
     "iopub.status.busy": "2023-09-08T11:07:16.008412Z",
     "iopub.status.idle": "2023-09-08T11:07:26.442652Z",
     "shell.execute_reply": "2023-09-08T11:07:26.441510Z",
     "shell.execute_reply.started": "2023-09-08T11:07:16.008768Z"
    }
   },
   "outputs": [],
   "source": [
    "fig, axes = plt.subplots(\n",
    "    nrows=1, ncols=5, figsize=(15, 3), gridspec_kw=dict(width_ratios=[1, 1, 1, 1, 1.1])\n",
    ")\n",
    "\n",
    "direction = np.where(ser[\"pkts_dir\"] == 0, -1, 1)\n",
    "y = ser[\"pkts_size\"] * direction\n",
    "x = ser[\"timetofirst\"]\n",
    "\n",
    "ax = axes[0]\n",
    "ax.stem(\n",
    "    np.where(y > 0, x, 0),\n",
    "    np.where(y > 0, y, 0),\n",
    "    markerfmt=\"\",\n",
    "    basefmt=\"lightgray\",\n",
    "    label=\"outgoing\",\n",
    "    linefmt=\"green\",\n",
    ")\n",
    "ax.stem(\n",
    "    np.where(y < 0, x, 0),\n",
    "    np.where(y < 0, y, 0),\n",
    "    markerfmt=\"\",\n",
    "    basefmt=\"lightgray\",\n",
    "    label=\"incoming\",\n",
    "    linefmt=\"lightgreen\",\n",
    ")\n",
    "ax.legend()\n",
    "ax.set_ylabel(\"packet size [B]\")\n",
    "ax.set_xlabel(\"time [s]\")\n",
    "\n",
    "rect = mpl.patches.Rectangle(\n",
    "    (0, -1500), 15, 3000, linewidth=1, edgecolor=\"r\", facecolor=\"none\"\n",
    ")\n",
    "ax.add_patch(rect)\n",
    "ax.annotate(\"first\\n15s\", (5, 1000))\n",
    "\n",
    "for idx, flowpic_dim in enumerate((32, 64, 256, 512), start=1):\n",
    "    # create a single sample dataset\n",
    "    dset = dataprep.FlowpicDataset(\n",
    "        data=df_sample,\n",
    "        timetofirst_colname=\"timetofirst\",\n",
    "        pkts_size_colname=\"pkts_size\",\n",
    "        pkts_dir_colname=\"pkts_dir\",\n",
    "        target_colname=\"app\",\n",
    "        flowpic_dim=flowpic_dim,\n",
    "        flowpic_block_duration=FLOWPIC_BLOCK_DURATION,\n",
    "    )\n",
    "\n",
    "    # fetch the flowpic representation\n",
    "    flowpic, label = dset[0]\n",
    "\n",
    "    # flattening the representation\n",
    "    # to remove zero values (used for finding\n",
    "    # min values)\n",
    "    flowpic = flowpic.numpy().squeeze()\n",
    "    flattened = flowpic.flatten()\n",
    "    flattened = flattened[flattened > 0]\n",
    "\n",
    "    ax = axes[idx]\n",
    "\n",
    "    sns.heatmap(\n",
    "        ax=ax,\n",
    "        data=np.where(flowpic == 0, np.nan, flowpic),\n",
    "        vmin=flattened.min(),\n",
    "        vmax=flattened.max(),\n",
    "        cbar=idx == 4,\n",
    "        cbar_kws=dict(fraction=0.046, pad=0.01, aspect=20, label=\"Normalized packets count\"),\n",
    "        cmap=plt.get_cmap(\"viridis_r\"),\n",
    "        square=True,\n",
    "        norm=LogNorm(flattened.min(), flattened.max()),\n",
    "    )\n",
    "    for _, spine in ax.spines.items():\n",
    "        spine.set_visible(True)\n",
    "        spine.set_linewidth(1)\n",
    "    ax.yaxis.set_ticks([], None)\n",
    "    ax.xaxis.set_ticks([], None)\n",
    "    ax.set_ylabel(f\"packets size (bins of {1500 // flowpic_dim}B)\")\n",
    "    ax.set_xlabel(f\"time (bins of {FLOWPIC_BLOCK_DURATION / flowpic_dim * 1000:.1f}ms)\")\n",
    "    ax.set_title(f\"{flowpic_dim}x{flowpic_dim}\")\n",
    "\n",
    "plt.savefig(\"flowpic_example.png\", dpi=300, bbox_inches=\"tight\")"
   ]
  }
 ],
 "metadata": {
  "kernelspec": {
   "display_name": "Python 3 (ipykernel)",
   "language": "python",
   "name": "python3"
  },
  "language_info": {
   "codemirror_mode": {
    "name": "ipython",
    "version": 3
   },
   "file_extension": ".py",
   "mimetype": "text/x-python",
   "name": "python",
   "nbconvert_exporter": "python",
   "pygments_lexer": "ipython3",
   "version": "3.10.14"
  }
 },
 "nbformat": 4,
 "nbformat_minor": 5
}
